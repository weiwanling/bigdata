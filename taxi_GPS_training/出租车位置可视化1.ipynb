{
 "cells": [
  {
   "cell_type": "markdown",
   "metadata": {},
   "source": [
    "# 利用Spark分析出租车打车数据\n"
   ]
  },
  {
   "cell_type": "markdown",
   "metadata": {},
   "source": [
    "\n",
    "## 1 数据集简介\n",
    "\n",
    "本数据集为四川省成都市的出租车GPS记录数据集。该数据集已提前清洗完成，仅提取了原始数据集中某一天的部分数据，并且去除了时间段在 0 点至 6 点之间的较少数据。\n",
    "\n",
    "数据记录了成都市部分出租车在载客时的GPS位置和时间等信息，数据记录的格式为 CSV 格式。\n",
    "\n",
    "该数据集中的一条记录如下所示：\n",
    "\n",
    "1 30.624806 104.136604 211846 对各个字段逐个解释如下：\n",
    "\n",
    "- TID：出租车的ID。每辆出租车的TID都是唯一的。\n",
    "- Lat：出租车状态为载客时的纬度。\n",
    "- Lon：出租车状态为载客时的经度。\n",
    "- Time：该条记录的时间戳。如 211846 代表 21 点 18 分 46 秒。"
   ]
  },
  {
   "cell_type": "markdown",
   "metadata": {},
   "source": [
    "# 2 试验步骤\n",
    "\n",
    "## 2.1 首先查看数据：\n",
    "\n"
   ]
  },
  {
   "cell_type": "code",
   "execution_count": 13,
   "metadata": {},
   "outputs": [],
   "source": [
    "import matplotlib.pyplot as plt"
   ]
  },
  {
   "cell_type": "code",
   "execution_count": null,
   "metadata": {},
   "outputs": [],
   "source": [
    "//scala\n",
    "\n",
    "import org.apache.spark._\n",
    "import org.apache.spark.sql._\n",
    "import org.apache.spark.sql.types._\n",
    "import org.apache.spark.sql.functions._\n",
    "import org.apache.spark.ml.feature.VectorAssembler\n",
    "import org.apache.spark.ml.clustering.KMeans\n",
    "\n",
    "val fieldSchema = StructType(Array(\n",
    "      StructField(\"TID\", StringType, true),\n",
    "      StructField(\"Lat\", DoubleType, true),\n",
    "      StructField(\"Lon\", DoubleType, true),\n",
    "      StructField(\"Time\", StringType, true)\n",
    "))\n",
    "\n",
    "val taxiDF = spark.read.format(\"csv\").option(\"header\",\"false\").schema(fieldSchema).load(\"/sparkml/wei/taxi.csv\")\n",
    "taxiDF.show()"
   ]
  },
  {
   "cell_type": "raw",
   "metadata": {},
   "source": [
    "\n",
    "scala> taxiDF.show()\n",
    "+---+---------+----------+------+\n",
    "|TID|      Lat|       Lon|  Time|\n",
    "+---+---------+----------+------+\n",
    "|  1|30.624806|104.136604|211846|\n",
    "|  1|30.624809|104.136612|211815|\n",
    "|  1|30.624811|104.136587|212017|\n",
    "|  1|30.624811|104.136596|211916|\n",
    "|  1|30.624811|104.136619|211744|\n",
    "|  1|30.624813|104.136589|211946|\n",
    "|  1|30.624815|104.136585|212118|\n",
    "|  1|30.624815|104.136587|212048|\n",
    "|  1|30.624815|104.136639|211714|\n",
    "|  1|30.624816|104.136569|212250|\n",
    "|  1|30.624816|104.136574|212219|\n",
    "|  1|30.624816|104.136577|212149|\n",
    "|  1|30.624818|104.136564|212320|\n",
    "|  1|30.624818|104.136621|211542|\n",
    "|  1| 30.62482|104.136631|211643|\n",
    "|  1| 30.62482|104.136644|211613|\n",
    "|  1|30.624823|104.136582|211511|\n",
    "|  1|30.624826|104.136556|212351|\n",
    "|  1|30.624828|104.136552|212451|\n",
    "|  1|30.624828|104.136556|212421|\n",
    "+---+---------+----------+------+\n",
    "only showing top 20 rows\n",
    "\n",
    "\n",
    "scala> \n"
   ]
  },
  {
   "cell_type": "markdown",
   "metadata": {},
   "source": [
    "## 2.2 用特征工程提取有用的特征"
   ]
  },
  {
   "cell_type": "code",
   "execution_count": null,
   "metadata": {},
   "outputs": [],
   "source": [
    "//scala\n",
    "val columns = Array(\"Lat\",\"Lon\")\n",
    "val va = new VectorAssembler().setInputCols(columns).setOutputCol(\"features\")\n",
    "val taxiDF2 = va.transform(taxiDF)\n",
    "taxiDF2.show()"
   ]
  },
  {
   "cell_type": "raw",
   "metadata": {},
   "source": [
    "+---+---------+----------+------+--------------------+\n",
    "|TID|      Lat|       Lon|  Time|            features|\n",
    "+---+---------+----------+------+--------------------+\n",
    "|  1|30.624806|104.136604|211846|[30.624806,104.13...|\n",
    "|  1|30.624809|104.136612|211815|[30.624809,104.13...|\n",
    "|  1|30.624811|104.136587|212017|[30.624811,104.13...|\n",
    "|  1|30.624811|104.136596|211916|[30.624811,104.13...|\n",
    "|  1|30.624811|104.136619|211744|[30.624811,104.13...|\n",
    "|  1|30.624813|104.136589|211946|[30.624813,104.13...|\n",
    "|  1|30.624815|104.136585|212118|[30.624815,104.13...|\n",
    "|  1|30.624815|104.136587|212048|[30.624815,104.13...|\n",
    "|  1|30.624815|104.136639|211714|[30.624815,104.13...|\n",
    "|  1|30.624816|104.136569|212250|[30.624816,104.13...|\n",
    "|  1|30.624816|104.136574|212219|[30.624816,104.13...|\n",
    "|  1|30.624816|104.136577|212149|[30.624816,104.13...|\n",
    "|  1|30.624818|104.136564|212320|[30.624818,104.13...|\n",
    "|  1|30.624818|104.136621|211542|[30.624818,104.13...|\n",
    "|  1| 30.62482|104.136631|211643|[30.62482,104.136...|\n",
    "|  1| 30.62482|104.136644|211613|[30.62482,104.136...|\n",
    "|  1|30.624823|104.136582|211511|[30.624823,104.13...|\n",
    "|  1|30.624826|104.136556|212351|[30.624826,104.13...|\n",
    "|  1|30.624828|104.136552|212451|[30.624828,104.13...|\n",
    "|  1|30.624828|104.136556|212421|[30.624828,104.13...|\n",
    "+---+---------+----------+------+--------------------+\n",
    "only showing top 20 rows\n"
   ]
  },
  {
   "cell_type": "markdown",
   "metadata": {},
   "source": [
    "## 2.3 使用Kmeans对坐标信息进行聚类\n",
    "设置聚类数为10，使用features列作为输入"
   ]
  },
  {
   "cell_type": "code",
   "execution_count": null,
   "metadata": {},
   "outputs": [],
   "source": [
    "//scala\n",
    "taxiDF2.cache()\n",
    "val traintestratio = Array(0.8,0.2)\n",
    "val Array(traindata,testdata) = taxiDF2.randomSplit(traintestratio,4484)\n",
    "val km = new KMeans().setK(10).setFeaturesCol(\"features\").setPredictionCol(\"prediction\") .fit(taxiDF2)\n",
    "val kmresult = km.clusterCenters\n",
    "val kmRDD1 = spark.sparkContext.parallelize(kmresult)\n",
    "val kmRDD2 = kmRDD1.map(k=>(k(1),k(0)))\n",
    "kmRDD2.saveAsTextFile(\"/sparkml/wei/kmResult\")"
   ]
  },
  {
   "cell_type": "markdown",
   "metadata": {},
   "source": [
    "scala> taxiDF2.cache()\n",
    "res3: taxiDF2.type = [TID: string, Lat: double ... 3 more fields]\n",
    "\n",
    "scala> val traintestratio = Array(0.8,0.2)\n",
    "traintestratio: Array[Double] = Array(0.8, 0.2)\n",
    "\n",
    "scala> val Array(traindata,testdata) = taxiDF2.randomSplit(traintestratio,4484)\n",
    "traindata: org.apache.spark.sql.Dataset[org.apache.spark.sql.Row] = [TID: string, Lat: double ... 3 more fields]\n",
    "testdata: org.apache.spark.sql.Dataset[org.apache.spark.sql.Row] = [TID: string, Lat: double ... 3 more fields]\n",
    "\n",
    "scala> val km = new KMeans().setK(10).setFeaturesCol(\"features\").setPredictionCol(\"prediction\") .fit(taxiDF2)\n",
    "2020-01-07 09:18:34,966 WARN clustering.KMeans: The input data is not directly cached, which may hurt performance if its parent RDDs are also uncached.\n",
    "2020-01-07 09:18:38,312 WARN netlib.BLAS: Failed to load implementation from: com.github.fommil.netlib.NativeSystemBLAS\n",
    "2020-01-07 09:18:38,312 WARN netlib.BLAS: Failed to load implementation from: com.github.fommil.netlib.NativeRefBLAS\n",
    "2020-01-07 09:18:46,240 WARN clustering.KMeans: The input data was not directly cached, which may hurt performance if its parent RDDs are also uncached.\n",
    "km: org.apache.spark.ml.clustering.KMeansModel = kmeans_1b79084981cd\n",
    "\n",
    "scala> val kmresult = km.clusterCenters\n",
    "kmresult: Array[org.apache.spark.ml.linalg.Vector] = Array([30.673148494635097,104.07578476841387], [30.72412085030872,103.87397208853098], [30.927353901972033,103.62885306030289], [30.59401354785786,103.98592269758088], [30.635381552525054,104.11394199019651], [30.537256303673082,104.05842847715851], [30.753202695449705,104.13250414652543], [30.627461571635052,104.05898271875064], [30.672885436261897,104.01931668552281], [30.56862618296974,104.30709651618582])\n",
    "\n",
    "scala> val kmRDD1 = spark.sparkContext.parallelize(kmresult)\n",
    "kmRDD1: org.apache.spark.rdd.RDD[org.apache.spark.ml.linalg.Vector] = ParallelCollectionRDD[87] at parallelize at <console>:39\n",
    "\n",
    "scala> val kmRDD2 = kmRDD1.map(k=>(k(1),k(0)))\n",
    "kmRDD2: org.apache.spark.rdd.RDD[(Double, Double)] = MapPartitionsRDD[88] at map at <console>:39\n",
    "\n",
    "scala> kmRDD2.saveAsTextFile(\"/sparkml/wei/kmResult\")\n"
   ]
  },
  {
   "cell_type": "markdown",
   "metadata": {},
   "source": [
    "## 2.4 使用sql语句对预测结果进行简单分析\n",
    "\n",
    "其中hour表示所处时段，prediction表示所处区域（跟前面坐标对应），count表示打车次数"
   ]
  },
  {
   "cell_type": "code",
   "execution_count": null,
   "metadata": {},
   "outputs": [],
   "source": [
    "//scala\n",
    "\n",
    "val prediction = km.transform(testdata)\n",
    "prediction.createTempView(\"haha\")\n",
    "val tmpQuery = spark.sql(\"select substring(Time,0,2) as hour,prediction from haha\")\n",
    "val predictCount = tmpQuery.groupBy(\"hour\",\"prediction\").agg(count(\"prediction\").alias(\"count\")).orderBy(desc(\"count\"))\n",
    "predictCount.show()\n",
    "predictCount.write.csv(\"/sparkml/wei/predictCount.csv\")\n",
    "val busyZones = prediction.groupBy(\"prediction\").count()\n",
    "busyZones.show()\n",
    "busyZones.write.csv(\"/sparkml/wei/busyZones.csv\")"
   ]
  },
  {
   "cell_type": "raw",
   "metadata": {},
   "source": [
    "scala> val prediction = km.transform(testdata)\n",
    "prediction: org.apache.spark.sql.DataFrame = [TID: string, Lat: double ... 4 more fields]\n",
    "\n",
    "scala> prediction.createTempView(\"haha\")\n",
    "\n",
    "scala> val tmpQuery = spark.sql(\"select substring(Time,0,2) as hour,prediction from haha\")\n",
    "2020-01-07 09:21:31,452 WARN metastore.ObjectStore: Version information not found in metastore. hive.metastore.schema.verification is not enabled so recording the schema version 1.2.0\n",
    "2020-01-07 09:21:31,892 WARN metastore.ObjectStore: Failed to get database default, returning NoSuchObjectException\n",
    "2020-01-07 09:21:35,708 WARN metastore.ObjectStore: Failed to get database global_temp, returning NoSuchObjectException\n",
    "tmpQuery: org.apache.spark.sql.DataFrame = [hour: string, prediction: int]\n",
    "\n",
    "scala> val predictCount = tmpQuery.groupBy(\"hour\",\"prediction\").agg(count(\"prediction\").alias(\"count\")).orderBy(desc(\"count\"))\n",
    "predictCount: org.apache.spark.sql.Dataset[org.apache.spark.sql.Row] = [hour: string, prediction: int ... 1 more field]\n",
    "\n",
    "scala> predictCount.show()\n",
    "+----+----------+-----+                                                         \n",
    "|hour|prediction|count|\n",
    "+----+----------+-----+\n",
    "|  15|         0| 3318|\n",
    "|  14|         0| 3202|\n",
    "|  17|         0| 3080|\n",
    "|  20|         0| 2925|\n",
    "|  16|         0| 2891|\n",
    "|  21|         8| 2879|\n",
    "|  13|         0| 2862|\n",
    "|  21|         0| 2840|\n",
    "|  11|         0| 2799|\n",
    "|  14|         7| 2775|\n",
    "|  15|         7| 2775|\n",
    "|  12|         0| 2750|\n",
    "|  22|         7| 2741|\n",
    "|  20|         8| 2718|\n",
    "|  21|         7| 2691|\n",
    "|  10|         0| 2552|\n",
    "|  22|         0| 2513|\n",
    "|  22|         8| 2479|\n",
    "|  11|         7| 2466|\n",
    "|  09|         0| 2464|\n",
    "+----+----------+-----+\n",
    "only showing top 20 rows\n",
    "\n",
    "\n",
    "scala> predictCount.write.csv(\"/sparkml/wei/predictCount.csv\")\n",
    "                                                                                \n",
    "scala> val busyZones = prediction.groupBy(\"prediction\").count()\n",
    "busyZones: org.apache.spark.sql.DataFrame = [prediction: int, count: bigint]\n",
    "\n",
    "scala> busyZones.show()\n",
    "+----------+-----+\n",
    "|prediction|count|\n",
    "+----------+-----+\n",
    "|         1| 1639|\n",
    "|         6| 2923|\n",
    "|         3| 8171|\n",
    "|         5| 4106|\n",
    "|         9|  534|\n",
    "|         4|27974|\n",
    "|         8|35689|\n",
    "|         7|36930|\n",
    "|         2|  705|\n",
    "|         0|44517|\n",
    "+----------+-----+\n",
    "\n",
    "\n",
    "scala> busyZones.write.csv(\"/sparkml/wei/busyZones.csv\")\n"
   ]
  },
  {
   "cell_type": "markdown",
   "metadata": {},
   "source": [
    "## 2.5 数据可视化\n",
    "\n",
    "然后把hdfs上的文件存到本地\n",
    "\n",
    "hdfs dfs -ls   /sparkml/wei\n",
    "\n",
    "hdfs dfs -get  /sparkml/wei/predictCount.csv predictCount.csv\n",
    "\n",
    "hdfs dfs -get  /sparkml/wei/busyZones.csv predictCount.csv\n",
    "\n",
    "hdfs dfs -getmerge   /sparkml/wei/kmResult  kmResult.csv\n",
    "\n",
    "\n",
    "\n",
    "利用正则匹配，将数据变成标准格式："
   ]
  },
  {
   "cell_type": "code",
   "execution_count": null,
   "metadata": {},
   "outputs": [],
   "source": [
    "#bash\n",
    "\n",
    "sed 's/.$//' kmResult.csv >> kmResult1.csv        #去除行尾括号\n",
    "sed 's/^.//' kmResult1.csv  kmResult2.csv           #去除行首括号\n",
    "sed ':a;N;$!ba;s/\\n/|/g'  kmResult2.csv >> kmResult3.csv         #将所有换行符\\n替换为分隔符|"
   ]
  },
  {
   "cell_type": "markdown",
   "metadata": {},
   "source": [
    "运用python解析百度API返回的地址参数,得到统计图形"
   ]
  },
  {
   "cell_type": "code",
   "execution_count": 7,
   "metadata": {},
   "outputs": [],
   "source": [
    "# !pip install pandas_highcharts"
   ]
  },
  {
   "cell_type": "code",
   "execution_count": 19,
   "metadata": {},
   "outputs": [
    {
     "data": {
      "text/html": [
       "<div>\n",
       "<style scoped>\n",
       "    .dataframe tbody tr th:only-of-type {\n",
       "        vertical-align: middle;\n",
       "    }\n",
       "\n",
       "    .dataframe tbody tr th {\n",
       "        vertical-align: top;\n",
       "    }\n",
       "\n",
       "    .dataframe thead th {\n",
       "        text-align: right;\n",
       "    }\n",
       "</style>\n",
       "<table border=\"1\" class=\"dataframe\">\n",
       "  <thead>\n",
       "    <tr style=\"text-align: right;\">\n",
       "      <th></th>\n",
       "      <th>area</th>\n",
       "      <th>counts</th>\n",
       "      <th>lon</th>\n",
       "      <th>lat</th>\n",
       "    </tr>\n",
       "  </thead>\n",
       "  <tbody>\n",
       "    <tr>\n",
       "      <td>0</td>\n",
       "      <td>1</td>\n",
       "      <td>1639</td>\n",
       "      <td>103.873972</td>\n",
       "      <td>30.724121</td>\n",
       "    </tr>\n",
       "    <tr>\n",
       "      <td>1</td>\n",
       "      <td>6</td>\n",
       "      <td>2923</td>\n",
       "      <td>104.132504</td>\n",
       "      <td>30.753203</td>\n",
       "    </tr>\n",
       "    <tr>\n",
       "      <td>2</td>\n",
       "      <td>3</td>\n",
       "      <td>8171</td>\n",
       "      <td>103.985923</td>\n",
       "      <td>30.594014</td>\n",
       "    </tr>\n",
       "    <tr>\n",
       "      <td>3</td>\n",
       "      <td>5</td>\n",
       "      <td>4106</td>\n",
       "      <td>104.058428</td>\n",
       "      <td>30.537256</td>\n",
       "    </tr>\n",
       "    <tr>\n",
       "      <td>4</td>\n",
       "      <td>9</td>\n",
       "      <td>534</td>\n",
       "      <td>104.307097</td>\n",
       "      <td>30.568626</td>\n",
       "    </tr>\n",
       "    <tr>\n",
       "      <td>5</td>\n",
       "      <td>4</td>\n",
       "      <td>27974</td>\n",
       "      <td>104.113942</td>\n",
       "      <td>30.635382</td>\n",
       "    </tr>\n",
       "    <tr>\n",
       "      <td>6</td>\n",
       "      <td>8</td>\n",
       "      <td>35689</td>\n",
       "      <td>104.019317</td>\n",
       "      <td>30.672885</td>\n",
       "    </tr>\n",
       "    <tr>\n",
       "      <td>7</td>\n",
       "      <td>7</td>\n",
       "      <td>36930</td>\n",
       "      <td>104.058983</td>\n",
       "      <td>30.627462</td>\n",
       "    </tr>\n",
       "    <tr>\n",
       "      <td>8</td>\n",
       "      <td>2</td>\n",
       "      <td>705</td>\n",
       "      <td>103.628853</td>\n",
       "      <td>30.927354</td>\n",
       "    </tr>\n",
       "    <tr>\n",
       "      <td>9</td>\n",
       "      <td>0</td>\n",
       "      <td>44517</td>\n",
       "      <td>104.075785</td>\n",
       "      <td>30.673148</td>\n",
       "    </tr>\n",
       "  </tbody>\n",
       "</table>\n",
       "</div>"
      ],
      "text/plain": [
       "   area  counts         lon        lat\n",
       "0     1    1639  103.873972  30.724121\n",
       "1     6    2923  104.132504  30.753203\n",
       "2     3    8171  103.985923  30.594014\n",
       "3     5    4106  104.058428  30.537256\n",
       "4     9     534  104.307097  30.568626\n",
       "5     4   27974  104.113942  30.635382\n",
       "6     8   35689  104.019317  30.672885\n",
       "7     7   36930  104.058983  30.627462\n",
       "8     2     705  103.628853  30.927354\n",
       "9     0   44517  104.075785  30.673148"
      ]
     },
     "execution_count": 19,
     "metadata": {},
     "output_type": "execute_result"
    }
   ],
   "source": [
    "#python\n",
    "import pandas as pd\n",
    "import urllib.request\n",
    "import json\n",
    "\n",
    "data = pd.read_csv(\"busyZones.csv\",header=None,names=(\"area\",\"counts\"))\n",
    "pre = pd.read_csv(\"kmResult2.csv\",header=None,names=(\"lon\",\"lat\"))\n",
    "pre[\"area\"] = pre.index\n",
    "df = pd.merge(data,pre,on=\"area\",how=\"left\")\n",
    "df"
   ]
  },
  {
   "cell_type": "code",
   "execution_count": 20,
   "metadata": {},
   "outputs": [
    {
     "data": {
      "text/plain": [
       "['温江',\n",
       " '金牛区玉垒',\n",
       " '武侯区凉港',\n",
       " '双流县丽景',\n",
       " '龙泉驿',\n",
       " '锦江区通盈',\n",
       " '青羊区华西',\n",
       " '武侯区二环路南3段-18号-附11',\n",
       " '都江堰市中大街9',\n",
       " '青羊区西玉龙街8-1']"
      ]
     },
     "execution_count": 20,
     "metadata": {},
     "output_type": "execute_result"
    }
   ],
   "source": [
    "def foundloc(lon,lat):\n",
    "    url=\"http://api.map.baidu.com/geocoder/v2/?location=%f,%f&output=json&ak=Yrf32LVk9DEHOYchZAQlG9nFICRTst5V\"%(lat,lon)\n",
    "    req = urllib.request.urlopen(url)\n",
    "    res = req.read().decode(\"utf-8\")\n",
    "    temp = json.loads(res)\n",
    "    return temp[\"result\"][\"formatted_address\"]\n",
    "\n",
    "lon = list(df[\"lon\"])\n",
    "lat = list(df[\"lat\"])\n",
    "situation = zip(lon,lat)\n",
    "situa = []\n",
    "for i in situation:\n",
    "    situa.append(foundloc(i[0],i[1])[6:-1])\n",
    "\n",
    "situa"
   ]
  },
  {
   "cell_type": "code",
   "execution_count": 23,
   "metadata": {},
   "outputs": [
    {
     "data": {
      "text/html": [
       "<div>\n",
       "<style scoped>\n",
       "    .dataframe tbody tr th:only-of-type {\n",
       "        vertical-align: middle;\n",
       "    }\n",
       "\n",
       "    .dataframe tbody tr th {\n",
       "        vertical-align: top;\n",
       "    }\n",
       "\n",
       "    .dataframe thead th {\n",
       "        text-align: right;\n",
       "    }\n",
       "</style>\n",
       "<table border=\"1\" class=\"dataframe\">\n",
       "  <thead>\n",
       "    <tr style=\"text-align: right;\">\n",
       "      <th></th>\n",
       "      <th>counts</th>\n",
       "    </tr>\n",
       "    <tr>\n",
       "      <th>name</th>\n",
       "      <th></th>\n",
       "    </tr>\n",
       "  </thead>\n",
       "  <tbody>\n",
       "    <tr>\n",
       "      <td>温江</td>\n",
       "      <td>1639</td>\n",
       "    </tr>\n",
       "    <tr>\n",
       "      <td>金牛区玉垒</td>\n",
       "      <td>2923</td>\n",
       "    </tr>\n",
       "    <tr>\n",
       "      <td>武侯区凉港</td>\n",
       "      <td>8171</td>\n",
       "    </tr>\n",
       "    <tr>\n",
       "      <td>双流县丽景</td>\n",
       "      <td>4106</td>\n",
       "    </tr>\n",
       "    <tr>\n",
       "      <td>龙泉驿</td>\n",
       "      <td>534</td>\n",
       "    </tr>\n",
       "    <tr>\n",
       "      <td>锦江区通盈</td>\n",
       "      <td>27974</td>\n",
       "    </tr>\n",
       "    <tr>\n",
       "      <td>青羊区华西</td>\n",
       "      <td>35689</td>\n",
       "    </tr>\n",
       "    <tr>\n",
       "      <td>武侯区二环路南3段-18号-附11</td>\n",
       "      <td>36930</td>\n",
       "    </tr>\n",
       "    <tr>\n",
       "      <td>都江堰市中大街9</td>\n",
       "      <td>705</td>\n",
       "    </tr>\n",
       "    <tr>\n",
       "      <td>青羊区西玉龙街8-1</td>\n",
       "      <td>44517</td>\n",
       "    </tr>\n",
       "  </tbody>\n",
       "</table>\n",
       "</div>"
      ],
      "text/plain": [
       "                   counts\n",
       "name                     \n",
       "温江                   1639\n",
       "金牛区玉垒                2923\n",
       "武侯区凉港                8171\n",
       "双流县丽景                4106\n",
       "龙泉驿                   534\n",
       "锦江区通盈               27974\n",
       "青羊区华西               35689\n",
       "武侯区二环路南3段-18号-附11   36930\n",
       "都江堰市中大街9              705\n",
       "青羊区西玉龙街8-1          44517"
      ]
     },
     "execution_count": 23,
     "metadata": {},
     "output_type": "execute_result"
    }
   ],
   "source": [
    "df[\"name\"] = situa\n",
    "df1 = df[[\"counts\",\"name\"]]\n",
    "df1 = df1.set_index(\"name\")\n",
    "df1\n"
   ]
  },
  {
   "cell_type": "code",
   "execution_count": 63,
   "metadata": {},
   "outputs": [],
   "source": [
    "#定义自定义字体，中文显示不乱码\n",
    "import matplotlib \n",
    "matplotlib.use('qt5agg') \n",
    "from matplotlib.font_manager import * \n",
    "import matplotlib.pyplot as plt \n",
    "\n",
    "myfont = FontProperties(fname='/usr/share/fonts/opentype/noto/NotoSansCJK-Medium.ttc') \n",
    "\n"
   ]
  },
  {
   "cell_type": "code",
   "execution_count": 78,
   "metadata": {},
   "outputs": [
    {
     "data": {
      "image/png": "[encoded data removed]",
      "text/plain": [
       "<Figure size 720x432 with 1 Axes>"
      ]
     },
     "metadata": {
      "needs_background": "light"
     },
     "output_type": "display_data"
    }
   ],
   "source": [
    "df1.plot(kind='bar', figsize=(10, 6))\n",
    "\n",
    "plt.xlabel('Area') # add to x-label to the plot\n",
    "plt.ylabel('')    # add y-label to the plot\n",
    "plt.title('各地区出租车出现次数',fontproperties=myfont) # add title to the plot\n",
    "\n",
    "plt.show()"
   ]
  },
  {
   "cell_type": "code",
   "execution_count": 64,
   "metadata": {},
   "outputs": [
    {
     "data": {
      "image/png": "[encoded data removed]",
      "text/plain": [
       "<Figure size 1296x504 with 1 Axes>"
      ]
     },
     "metadata": {},
     "output_type": "display_data"
    }
   ],
   "source": [
    "colors_list = ['gold', 'yellowgreen', 'lightcoral', 'lightskyblue', 'lightgreen', 'pink']\n",
    "explode_list = [0.1, 0, 0, 0, 0.1, 0,0, 0, 0.1, 0]            # ratio for each continent with which to offset each wedge.\n",
    "\n",
    "df1['counts'].plot(\n",
    "                kind='pie',\n",
    "                figsize=(18, 7),\n",
    "                autopct='%1.1f%%', \n",
    "                startangle=90, \n",
    "                 shadow=True,       \n",
    "                 labels=None,         # turn off labels on pie chart\n",
    "                 pctdistance=1.12,    # the ratio between the center of each pie slice and the start of the text generated by autopct \n",
    "                colors=colors_list,  # add custom colors\n",
    "                explode=explode_list # 'explode' lowest 3 continents\n",
    "                            )\n",
    "# scale the title up by 12% to match pctdistance\n",
    "plt.title('每个地区出租车出现次数占比', y=1.12,fontproperties=myfont) \n",
    "\n",
    "plt.axis('equal') \n",
    "\n",
    "# add legend\n",
    "plt.legend(labels=df1.index, loc='upper left',prop=myfont) \n",
    "\n",
    "plt.show()"
   ]
  },
  {
   "cell_type": "code",
   "execution_count": null,
   "metadata": {},
   "outputs": [],
   "source": []
  }
 ],
 "metadata": {
  "kernelspec": {
   "display_name": "Python 3",
   "language": "python",
   "name": "python3"
  },
  "language_info": {
   "codemirror_mode": {
    "name": "ipython",
    "version": 3
   },
   "file_extension": ".py",
   "mimetype": "text/x-python",
   "name": "python",
   "nbconvert_exporter": "python",
   "pygments_lexer": "ipython3",
   "version": "3.7.4"
  }
 },
 "nbformat": 4,
 "nbformat_minor": 2
}
